{
  "nbformat": 4,
  "nbformat_minor": 0,
  "metadata": {
    "colab": {
      "provenance": [],
      "collapsed_sections": [],
      "authorship_tag": "ABX9TyMbILIDo/CajZXM2d+oauyi",
      "include_colab_link": true
    },
    "kernelspec": {
      "name": "python3",
      "display_name": "Python 3"
    },
    "language_info": {
      "name": "python"
    }
  },
  "cells": [
    {
      "cell_type": "markdown",
      "metadata": {
        "id": "view-in-github",
        "colab_type": "text"
      },
      "source": [
        "<a href=\"https://colab.research.google.com/github/diptaban/KNN/blob/main/AIML_LAB_12_KNN.ipynb\" target=\"_parent\"><img src=\"https://colab.research.google.com/assets/colab-badge.svg\" alt=\"Open In Colab\"/></a>"
      ]
    },
    {
      "cell_type": "code",
      "execution_count": null,
      "metadata": {
        "colab": {
          "base_uri": "https://localhost:8080/",
          "height": 287
        },
        "id": "1JmBHqbho5-y",
        "outputId": "d8323e8d-2365-4f60-ed47-95704e484970"
      },
      "outputs": [
        {
          "output_type": "execute_result",
          "data": {
            "text/plain": [
              "[<matplotlib.lines.Line2D at 0x7fc107ebee90>]"
            ]
          },
          "metadata": {},
          "execution_count": 92
        },
        {
          "output_type": "display_data",
          "data": {
            "text/plain": [
              "<Figure size 432x288 with 1 Axes>"
            ],
            "image/png": "[encoded data removed]"
          },
          "metadata": {
            "needs_background": "light"
          }
        }
      ],
      "source": [
        "import numpy as np\n",
        "import matplotlib.pyplot as plt\n",
        "\n",
        "X= np.array([[0.5,1.5],[0.55, 1.8],[0.6,1.9],[0.65,2.2],[1.5,4.5],[1.55, 4.8],[1.6,4.9],[1.65,4.2]])\n",
        "y = [1,1,1,1,0,0,0,0]\n",
        "X_test = np.array([[1.5,3.2]])\n",
        "plt.plot(X[:,0],X[:,1],'.r')\n",
        "plt.axis([0,5,0,8])\n",
        "plt.plot(X_test[:,0],X_test[:,1],'+k')"
      ]
    },
    {
      "cell_type": "code",
      "source": [
        "dist = np.sqrt(np.sum((X-X_test)**2,axis=1))\n",
        "print(dist)\n",
        "\n",
        "dist_list = []\n",
        "for i in range(len(y)):\n",
        "  dist_list.append((y[i],dist[i]))\n",
        "\n",
        "print(dist_list)\n",
        "\n",
        "\n"
      ],
      "metadata": {
        "colab": {
          "base_uri": "https://localhost:8080/"
        },
        "id": "TDw8IDNBqBe9",
        "outputId": "7de69979-5965-471b-e982-338405702a34"
      },
      "execution_count": null,
      "outputs": [
        {
          "output_type": "stream",
          "name": "stdout",
          "text": [
            "[1.97230829 1.69189243 1.58113883 1.31244047 1.3        1.60078106\n",
            " 1.70293864 1.01118742]\n",
            "[(1, 1.9723082923316022), (1, 1.691892431568863), (1, 1.58113883008419), (1, 1.3124404748406686), (0, 1.2999999999999998), (0, 1.6007810593582117), (0, 1.7029386365926404), (0, 1.0111874208078342)]\n"
          ]
        }
      ]
    },
    {
      "cell_type": "code",
      "source": [
        "# take second element for sort\n",
        "def takeSecond(elem):\n",
        "    return elem[1]\n",
        "\n",
        "# random list\n",
        "random = [(2, 2), (3, 4), (4, 1), (1, 3)]\n",
        "\n",
        "# sort list with key\n",
        "random.sort(key=takeSecond)\n",
        "\n",
        "# print list\n",
        "print('Sorted list:', random)"
      ],
      "metadata": {
        "colab": {
          "base_uri": "https://localhost:8080/"
        },
        "id": "DigNrgHhrNMP",
        "outputId": "8f20911a-1bae-4a77-a0f3-411840c0e59c"
      },
      "execution_count": null,
      "outputs": [
        {
          "output_type": "stream",
          "name": "stdout",
          "text": [
            "Sorted list: [(4, 1), (2, 2), (1, 3), (3, 4)]\n"
          ]
        }
      ]
    },
    {
      "cell_type": "code",
      "source": [
        "dist_list.sort(key = takeSecond)\n",
        "print(dist_list)"
      ],
      "metadata": {
        "colab": {
          "base_uri": "https://localhost:8080/"
        },
        "id": "Ea_VlOD7xiPp",
        "outputId": "5f2b041d-6e15-448a-8036-831f86c52ed4"
      },
      "execution_count": null,
      "outputs": [
        {
          "output_type": "stream",
          "name": "stdout",
          "text": [
            "[(0, 1.0111874208078342), (0, 1.2999999999999998), (1, 1.3124404748406686), (1, 1.58113883008419), (0, 1.6007810593582117), (1, 1.691892431568863), (0, 1.7029386365926404), (1, 1.9723082923316022)]\n"
          ]
        }
      ]
    },
    {
      "cell_type": "code",
      "source": [
        "from collections import Counter\n",
        "k = 3\n",
        " #get top k nearest neighbours\n",
        "neighbours =dist_list[:k]\n",
        "print(neighbours)\n",
        "#get index of the minimum distances\n",
        "idx = []\n",
        "for tup in neighbours:\n",
        "    idx.append(tup[0])\n",
        "print(idx) # idx = [1, 1, 1]\n",
        "max(idx,key=idx.count) # maximum occurance of which element in list"
      ],
      "metadata": {
        "colab": {
          "base_uri": "https://localhost:8080/"
        },
        "id": "Im62ddbXx4-R",
        "outputId": "6148dac7-e113-42aa-a6f5-13a23062f4a4"
      },
      "execution_count": null,
      "outputs": [
        {
          "output_type": "stream",
          "name": "stdout",
          "text": [
            "[(0, 1.0111874208078342), (0, 1.2999999999999998), (1, 1.3124404748406686)]\n",
            "[0, 0, 1]\n"
          ]
        },
        {
          "output_type": "execute_result",
          "data": {
            "text/plain": [
              "0"
            ]
          },
          "metadata": {},
          "execution_count": 101
        }
      ]
    },
    {
      "cell_type": "code",
      "source": [
        "# kNN prediction\n",
        "\n",
        "def takeSecond(elem):\n",
        "    return elem[1]\n",
        "\n",
        "def plotData(Xtrain,Xtest):\n",
        "  plt.plot(Xtrain[:,0],Xtrain[:,1],'.r')\n",
        "  plt.axis([0,5,0,8])\n",
        "  plt.plot(Xtest[0],Xtest[1],'+k')\n",
        "\n",
        "def KNNClassifierPredict(XTrain,YTrain,k,X_test):\n",
        "  plotData(XTrain,X_test)\n",
        "  dist = np.sqrt(np.sum((XTrain-X_test)**2,axis=1))\n",
        "  dist_list = []\n",
        "  for i in range(len(y)):\n",
        "    dist_list.append((y[i],dist[i]))\n",
        "  dist_list.sort(key = takeSecond)\n",
        "  neighbours =dist_list[:k]\n",
        "  print(neighbours)\n",
        "  #get index of the minimum distances\n",
        "  idx = []\n",
        "  for tup in neighbours:\n",
        "      idx.append(tup[0])\n",
        "  #print(idx) # idx = [1, 1, 1]\n",
        "  label = max(idx,key=idx.count)\n",
        "  #print(label) # maximum occurance of which element in list\n",
        "  return label\n",
        "\n",
        "\n",
        "X= np.array([[0.5,1.5],[0.55, 1.8],[0.6,1.9],[0.65,2.2],[1.5,4.5],[1.55, 4.8],[1.6,4.9],[1.65,4.2]])\n",
        "y = [1,1,1,1,0,0,0,0]\n",
        "X_test = np.array([[0.5,3.2]])\n",
        "\n",
        "#KNNClassifierPredict(X,y,3,X_test)\n",
        "\n",
        "xTest = X\n",
        "print(xTest[0,:])\n",
        "label=[]\n",
        "for i in range(len(y)):\n",
        "  #print(i)\n",
        "  label.append(KNNClassifierPredict(X,y,1,xTest[i,:]))\n",
        "\n",
        "print(label)\n",
        "\n"
      ],
      "metadata": {
        "colab": {
          "base_uri": "https://localhost:8080/",
          "height": 446
        },
        "id": "u6Fled-J2bjp",
        "outputId": "a4996851-f276-469e-8da5-a55f3b96c496"
      },
      "execution_count": null,
      "outputs": [
        {
          "output_type": "stream",
          "name": "stdout",
          "text": [
            "[0.5 1.5]\n",
            "[(1, 0.0)]\n",
            "[(1, 0.0)]\n",
            "[(1, 0.0)]\n",
            "[(1, 0.0)]\n",
            "[(0, 0.0)]\n",
            "[(0, 0.0)]\n",
            "[(0, 0.0)]\n",
            "[(0, 0.0)]\n",
            "[1, 1, 1, 1, 0, 0, 0, 0]\n"
          ]
        },
        {
          "output_type": "display_data",
          "data": {
            "text/plain": [
              "<Figure size 432x288 with 1 Axes>"
            ],
            "image/png": "[encoded data removed]"
          },
          "metadata": {
            "needs_background": "light"
          }
        }
      ]
    }
  ]
}